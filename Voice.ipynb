{
  "nbformat": 4,
  "nbformat_minor": 0,
  "metadata": {
    "colab": {
      "provenance": [],
      "authorship_tag": "ABX9TyPuTDOaeqSsudGM+wqaAeYd"
    },
    "kernelspec": {
      "name": "python3",
      "display_name": "Python 3"
    },
    "language_info": {
      "name": "python"
    }
  },
  "cells": [
    {
      "cell_type": "markdown",
      "source": [
        "# Voice recognition"
      ],
      "metadata": {
        "id": "aWH8c50YDA2D"
      }
    },
    {
      "cell_type": "markdown",
      "source": [
        "## Import section"
      ],
      "metadata": {
        "id": "yQQBm6r4Dzpx"
      }
    },
    {
      "cell_type": "code",
      "source": [],
      "metadata": {
        "id": "XjJrW4gXD2Rd"
      },
      "execution_count": null,
      "outputs": []
    },
    {
      "cell_type": "markdown",
      "source": [
        "## Download data\n"
      ],
      "metadata": {
        "id": "4tClzZEsDmNo"
      }
    },
    {
      "cell_type": "code",
      "source": [],
      "metadata": {
        "id": "JzVfzJYTDwWf"
      },
      "execution_count": null,
      "outputs": []
    }
  ]
}